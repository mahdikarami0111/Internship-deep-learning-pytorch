{
  "nbformat": 4,
  "nbformat_minor": 0,
  "metadata": {
    "colab": {
      "provenance": []
    },
    "kernelspec": {
      "name": "python3",
      "display_name": "Python 3"
    },
    "language_info": {
      "name": "python"
    }
  },
  "cells": [
    {
      "cell_type": "code",
      "execution_count": null,
      "metadata": {
        "colab": {
          "base_uri": "https://localhost:8080/"
        },
        "id": "4VImcvU7KZ47",
        "outputId": "ccfe7f5e-4d4c-431d-d5ed-cbd80ea7a7ce"
      },
      "outputs": [
        {
          "output_type": "stream",
          "name": "stdout",
          "text": [
            "test\n"
          ]
        }
      ],
      "source": [
        ",cprint('test')"
      ]
    },
    {
      "cell_type": "code",
      "source": [
        "import torch\n",
        "print(torch.__version__)"
      ],
      "metadata": {
        "colab": {
          "base_uri": "https://localhost:8080/"
        },
        "id": "NGqiugGuLRIX",
        "outputId": "99d91d91-3ffe-4cbf-b81b-9a30fc4f4ba3"
      },
      "execution_count": null,
      "outputs": [
        {
          "output_type": "stream",
          "name": "stdout",
          "text": [
            "2.0.1+cu118\n"
          ]
        }
      ]
    },
    {
      "cell_type": "code",
      "source": [
        "scalar = torch.tensor(7)"
      ],
      "metadata": {
        "id": "7aRIj6o2MFXC"
      },
      "execution_count": null,
      "outputs": []
    },
    {
      "cell_type": "code",
      "source": [
        "scalar"
      ],
      "metadata": {
        "colab": {
          "base_uri": "https://localhost:8080/"
        },
        "id": "K9qapPF9ObrY",
        "outputId": "30eda333-4ceb-492c-b73e-6d866bd7653d"
      },
      "execution_count": null,
      "outputs": [
        {
          "output_type": "execute_result",
          "data": {
            "text/plain": [
              "tensor(7)"
            ]
          },
          "metadata": {},
          "execution_count": 4
        }
      ]
    },
    {
      "cell_type": "code",
      "source": [
        "scalar.ndim"
      ],
      "metadata": {
        "colab": {
          "base_uri": "https://localhost:8080/"
        },
        "id": "7Jmmfe9iOd2T",
        "outputId": "8d8f97a9-27ce-4bb6-d4f9-a44c34e6b578"
      },
      "execution_count": null,
      "outputs": [
        {
          "output_type": "execute_result",
          "data": {
            "text/plain": [
              "0"
            ]
          },
          "metadata": {},
          "execution_count": 6
        }
      ]
    },
    {
      "cell_type": "code",
      "source": [
        "test = torch.rand(3, 5)\n",
        "test"
      ],
      "metadata": {
        "colab": {
          "base_uri": "https://localhost:8080/"
        },
        "id": "HFnP5mv9OuTV",
        "outputId": "265cef31-d053-4535-aa36-285b47d272c9"
      },
      "execution_count": null,
      "outputs": [
        {
          "output_type": "execute_result",
          "data": {
            "text/plain": [
              "tensor([[0.7108, 0.5823, 0.0378, 0.4891, 0.5981],\n",
              "        [0.0441, 0.7808, 0.0645, 0.1867, 0.1868],\n",
              "        [0.3045, 0.8567, 0.6596, 0.7577, 0.4309]])"
            ]
          },
          "metadata": {},
          "execution_count": 7
        }
      ]
    },
    {
      "cell_type": "code",
      "source": [
        "random_image = torch.rand(224, 224, 3)\n",
        "random_image.ndim, random_image.shape"
      ],
      "metadata": {
        "colab": {
          "base_uri": "https://localhost:8080/"
        },
        "id": "392PzshiSbfN",
        "outputId": "c37f2890-cba4-462d-fe34-a11f298cba69"
      },
      "execution_count": null,
      "outputs": [
        {
          "output_type": "execute_result",
          "data": {
            "text/plain": [
              "(3, torch.Size([224, 224, 3]))"
            ]
          },
          "metadata": {},
          "execution_count": 9
        }
      ]
    },
    {
      "cell_type": "code",
      "source": [
        "mask = torch.zeros(size=(3,1,5))"
      ],
      "metadata": {
        "id": "yGXG2TL3TlU3"
      },
      "execution_count": null,
      "outputs": []
    },
    {
      "cell_type": "code",
      "source": [
        "mask"
      ],
      "metadata": {
        "colab": {
          "base_uri": "https://localhost:8080/"
        },
        "id": "BkVSmO-IVfKk",
        "outputId": "6f623036-fea8-4974-f563-1848d3da3d88"
      },
      "execution_count": null,
      "outputs": [
        {
          "output_type": "execute_result",
          "data": {
            "text/plain": [
              "tensor([[[0., 0., 0., 0., 0.]],\n",
              "\n",
              "        [[0., 0., 0., 0., 0.]],\n",
              "\n",
              "        [[0., 0., 0., 0., 0.]]])"
            ]
          },
          "metadata": {},
          "execution_count": 11
        }
      ]
    },
    {
      "cell_type": "code",
      "source": [
        "temp = torch.rand(size=(3,1,5))"
      ],
      "metadata": {
        "id": "6xWwAgGiVglL"
      },
      "execution_count": null,
      "outputs": []
    },
    {
      "cell_type": "code",
      "source": [
        "temp"
      ],
      "metadata": {
        "colab": {
          "base_uri": "https://localhost:8080/"
        },
        "id": "W-Qd9kj-Vs-7",
        "outputId": "15d2362e-50b3-4d56-929d-3495817a0b80"
      },
      "execution_count": null,
      "outputs": [
        {
          "output_type": "execute_result",
          "data": {
            "text/plain": [
              "tensor([[[0.8692, 0.6126, 0.4318, 0.5007, 0.8007]],\n",
              "\n",
              "        [[0.7020, 0.0960, 0.0414, 0.6812, 0.2016]],\n",
              "\n",
              "        [[0.7301, 0.8477, 0.2852, 0.9458, 0.8829]]])"
            ]
          },
          "metadata": {},
          "execution_count": 13
        }
      ]
    },
    {
      "cell_type": "code",
      "source": [
        "temp + mask"
      ],
      "metadata": {
        "id": "HgHdXyAIVt36",
        "outputId": "87b74500-1492-4b2e-eb2c-676a7154b34a",
        "colab": {
          "base_uri": "https://localhost:8080/"
        }
      },
      "execution_count": null,
      "outputs": [
        {
          "output_type": "execute_result",
          "data": {
            "text/plain": [
              "tensor([[[0.8692, 0.6126, 0.4318, 0.5007, 0.8007]],\n",
              "\n",
              "        [[0.7020, 0.0960, 0.0414, 0.6812, 0.2016]],\n",
              "\n",
              "        [[0.7301, 0.8477, 0.2852, 0.9458, 0.8829]]])"
            ]
          },
          "metadata": {},
          "execution_count": 14
        }
      ]
    },
    {
      "cell_type": "code",
      "source": [
        "temp * mask"
      ],
      "metadata": {
        "id": "eNSRtAwuVv1M",
        "outputId": "507a61d9-13da-4edc-ed5e-f418eac5c73a",
        "colab": {
          "base_uri": "https://localhost:8080/"
        }
      },
      "execution_count": null,
      "outputs": [
        {
          "output_type": "execute_result",
          "data": {
            "text/plain": [
              "tensor([[[0., 0., 0., 0., 0.]],\n",
              "\n",
              "        [[0., 0., 0., 0., 0.]],\n",
              "\n",
              "        [[0., 0., 0., 0., 0.]]])"
            ]
          },
          "metadata": {},
          "execution_count": 4
        }
      ]
    },
    {
      "cell_type": "code",
      "source": [
        "temp = torch.arange(start=1, end=11, step=1)\n",
        "temp"
      ],
      "metadata": {
        "id": "r1v4o-b4Vz2p",
        "colab": {
          "base_uri": "https://localhost:8080/"
        },
        "outputId": "cdc8cf20-8a2d-46c7-875b-af578571355c"
      },
      "execution_count": null,
      "outputs": [
        {
          "output_type": "execute_result",
          "data": {
            "text/plain": [
              "tensor([ 1,  2,  3,  4,  5,  6,  7,  8,  9, 10])"
            ]
          },
          "metadata": {},
          "execution_count": 6
        }
      ]
    },
    {
      "cell_type": "code",
      "source": [
        "zeros = torch.zeros_like(temp)\n",
        "zeros"
      ],
      "metadata": {
        "colab": {
          "base_uri": "https://localhost:8080/"
        },
        "id": "fjrFhkVZMpdj",
        "outputId": "535028de-db1f-4eeb-efbc-0ecce3908d68"
      },
      "execution_count": null,
      "outputs": [
        {
          "output_type": "execute_result",
          "data": {
            "text/plain": [
              "tensor([0, 0, 0, 0, 0, 0, 0, 0, 0, 0])"
            ]
          },
          "metadata": {},
          "execution_count": 7
        }
      ]
    },
    {
      "cell_type": "code",
      "source": [
        "test = torch.tensor([[1,2.35,3],[3,2,1]],\n",
        "                       dtype=torch.float32,\n",
        "                       device=\"cpu\")\n",
        "test.dtype"
      ],
      "metadata": {
        "colab": {
          "base_uri": "https://localhost:8080/"
        },
        "id": "alisbp24M_A8",
        "outputId": "dc5c2ac3-3c6e-4c1e-95c5-8294c574785f"
      },
      "execution_count": null,
      "outputs": [
        {
          "output_type": "execute_result",
          "data": {
            "text/plain": [
              "torch.float32"
            ]
          },
          "metadata": {},
          "execution_count": 23
        }
      ]
    },
    {
      "cell_type": "code",
      "source": [
        "tempo = torch.ones_like(kirkhar, dtype=torch.int)\n",
        "tempo * kirkhar"
      ],
      "metadata": {
        "colab": {
          "base_uri": "https://localhost:8080/"
        },
        "id": "Lx1zDbbwO-TN",
        "outputId": "fab84d81-dac6-4988-ae2c-e0f069a486cb"
      },
      "execution_count": null,
      "outputs": [
        {
          "output_type": "execute_result",
          "data": {
            "text/plain": [
              "tensor([[1.0000, 2.3500, 3.0000],\n",
              "        [3.0000, 2.0000, 1.0000]])"
            ]
          },
          "metadata": {},
          "execution_count": 25
        }
      ]
    },
    {
      "cell_type": "code",
      "source": [
        "some_tensor = torch.rand(size=(3, 4),\n",
        "                         dtype=torch.float32,)\n",
        "some_tensor.dtype"
      ],
      "metadata": {
        "colab": {
          "base_uri": "https://localhost:8080/"
        },
        "id": "GFAYCgVlRedA",
        "outputId": "b7f250d6-5655-4abe-fd3c-71b9af1d0717"
      },
      "execution_count": null,
      "outputs": [
        {
          "output_type": "execute_result",
          "data": {
            "text/plain": [
              "torch.float32"
            ]
          },
          "metadata": {},
          "execution_count": 30
        }
      ]
    },
    {
      "cell_type": "code",
      "source": [
        "some_other_tensor = torch.rand(size=(4,3))\n",
        "some_other_tensor"
      ],
      "metadata": {
        "colab": {
          "base_uri": "https://localhost:8080/"
        },
        "id": "8l6G0ao5SrHG",
        "outputId": "b8165ee8-16c4-4f70-f0a5-795646a6aad8"
      },
      "execution_count": null,
      "outputs": [
        {
          "output_type": "execute_result",
          "data": {
            "text/plain": [
              "tensor([[0.7237, 0.6184, 0.7921],\n",
              "        [0.6813, 0.1352, 0.7639],\n",
              "        [0.6039, 0.8400, 0.1188],\n",
              "        [0.2507, 0.1151, 0.3737]])"
            ]
          },
          "metadata": {},
          "execution_count": 28
        }
      ]
    },
    {
      "cell_type": "code",
      "source": [
        "torch.matmul(some_tensor, some_other_tensor)"
      ],
      "metadata": {
        "colab": {
          "base_uri": "https://localhost:8080/"
        },
        "id": "i6ifxIdrU6Q7",
        "outputId": "56fd0ec7-5d13-4f18-dae8-b71689e33a62"
      },
      "execution_count": null,
      "outputs": [
        {
          "output_type": "execute_result",
          "data": {
            "text/plain": [
              "tensor([[1.0759, 0.5321, 1.0912],\n",
              "        [1.2740, 0.8102, 1.1665],\n",
              "        [1.0941, 0.9801, 0.8318]])"
            ]
          },
          "metadata": {},
          "execution_count": 32
        }
      ]
    },
    {
      "cell_type": "code",
      "source": [
        "some_tensor, some_tensor.min()"
      ],
      "metadata": {
        "colab": {
          "base_uri": "https://localhost:8080/"
        },
        "id": "q4OPtypGVGQ8",
        "outputId": "7e7ef681-5616-47a8-c8c1-8e9a97cde35b"
      },
      "execution_count": null,
      "outputs": [
        {
          "output_type": "execute_result",
          "data": {
            "text/plain": [
              "(tensor([[0.3347, 0.9966, 0.2122, 0.1057],\n",
              "         [0.2901, 0.9067, 0.5390, 0.4817],\n",
              "         [0.4071, 0.3627, 0.7565, 0.3809]]),\n",
              " tensor(0.1057))"
            ]
          },
          "metadata": {},
          "execution_count": 33
        }
      ]
    },
    {
      "cell_type": "code",
      "source": [
        "some_tensor, some_tensor.argmin()"
      ],
      "metadata": {
        "colab": {
          "base_uri": "https://localhost:8080/"
        },
        "id": "5OThWh0vkOAq",
        "outputId": "9ff8aa1b-0ddf-4d35-de69-d4dec105c572"
      },
      "execution_count": null,
      "outputs": [
        {
          "output_type": "execute_result",
          "data": {
            "text/plain": [
              "(tensor([[0.3347, 0.9966, 0.2122, 0.1057],\n",
              "         [0.2901, 0.9067, 0.5390, 0.4817],\n",
              "         [0.4071, 0.3627, 0.7565, 0.3809]]),\n",
              " tensor(3))"
            ]
          },
          "metadata": {},
          "execution_count": 34
        }
      ]
    },
    {
      "cell_type": "code",
      "source": [
        "some_other_tensor, some_other_tensor.max(), some_other_tensor.argmax()"
      ],
      "metadata": {
        "colab": {
          "base_uri": "https://localhost:8080/"
        },
        "id": "7pqxnxjUkSMU",
        "outputId": "057b63a5-6bf6-4017-c16a-688ae27828b8"
      },
      "execution_count": null,
      "outputs": [
        {
          "output_type": "execute_result",
          "data": {
            "text/plain": [
              "(tensor([[0.7237, 0.6184, 0.7921],\n",
              "         [0.6813, 0.1352, 0.7639],\n",
              "         [0.6039, 0.8400, 0.1188],\n",
              "         [0.2507, 0.1151, 0.3737]]),\n",
              " tensor(0.8400),\n",
              " tensor(7))"
            ]
          },
          "metadata": {},
          "execution_count": 36
        }
      ]
    },
    {
      "cell_type": "code",
      "source": [
        "some_other_tensor[3, 2]"
      ],
      "metadata": {
        "colab": {
          "base_uri": "https://localhost:8080/"
        },
        "id": "7fX1jsvmkfzA",
        "outputId": "80dc34c6-080b-4d60-ded3-dec8394e3880"
      },
      "execution_count": null,
      "outputs": [
        {
          "output_type": "execute_result",
          "data": {
            "text/plain": [
              "tensor(0.3737)"
            ]
          },
          "metadata": {},
          "execution_count": 39
        }
      ]
    },
    {
      "cell_type": "code",
      "source": [
        "import torch\n",
        "torch.manual_seed(5)\n",
        "random_tensor_x = torch.rand(size=(3,4))\n",
        "random_tensor_y = torch.rand(size=(3,4))\n",
        "random_tensor_x, random_tensor_y"
      ],
      "metadata": {
        "colab": {
          "base_uri": "https://localhost:8080/"
        },
        "id": "DhFHoWcNqeJ-",
        "outputId": "e6efb019-b08a-4ec0-dfcc-bdd0f237b3ec"
      },
      "execution_count": null,
      "outputs": [
        {
          "output_type": "execute_result",
          "data": {
            "text/plain": [
              "(tensor([[0.8303, 0.1261, 0.9075, 0.8199],\n",
              "         [0.9201, 0.1166, 0.1644, 0.7379],\n",
              "         [0.0333, 0.9942, 0.6064, 0.5646]]),\n",
              " tensor([[0.0724, 0.6593, 0.7150, 0.5793],\n",
              "         [0.9809, 0.6502, 0.0566, 0.9201],\n",
              "         [0.6698, 0.2615, 0.0407, 0.7850]]))"
            ]
          },
          "metadata": {},
          "execution_count": 47
        }
      ]
    },
    {
      "cell_type": "code",
      "source": [
        "import torch\n",
        "torch.cuda.is_available()"
      ],
      "metadata": {
        "colab": {
          "base_uri": "https://localhost:8080/"
        },
        "id": "XeKmoOSDCd1R",
        "outputId": "9b72c09c-c560-4f79-a420-2bf611f712be"
      },
      "execution_count": null,
      "outputs": [
        {
          "output_type": "execute_result",
          "data": {
            "text/plain": [
              "True"
            ]
          },
          "metadata": {},
          "execution_count": 1
        }
      ]
    },
    {
      "cell_type": "code",
      "source": [
        "tensor = torch.tensor([1, 2, 3], device='cuda')\n",
        "tensor, tensor.device"
      ],
      "metadata": {
        "colab": {
          "base_uri": "https://localhost:8080/"
        },
        "id": "TchA51lkFnkc",
        "outputId": "4243f027-caf5-45f8-fd30-aedff24b5de8"
      },
      "execution_count": null,
      "outputs": [
        {
          "output_type": "execute_result",
          "data": {
            "text/plain": [
              "(tensor([1, 2, 3], device='cuda:0'), device(type='cuda', index=0))"
            ]
          },
          "metadata": {},
          "execution_count": 3
        }
      ]
    },
    {
      "cell_type": "code",
      "source": [
        "import torch\n",
        "import sklearn\n",
        "from sklearn.datasets import make_circles\n",
        "from torch import nn\n",
        "import pandas as pd\n",
        "import matplotlib.pyplot as plt\n",
        "\n",
        "\n",
        "n_samples = 1000\n",
        "\n",
        "X, Y = make_circles(n_samples, noise = 0.05, random_state=5)\n",
        "\n",
        "# plt.scatter(x=X[:, 0], y=X[:, 1], c=Y, cmap=plt.cm.RdYlBu)\n",
        "# X.shape, Y.shape\n",
        "\n"
      ],
      "metadata": {
        "id": "s-TsDuL1ox-U",
        "colab": {
          "base_uri": "https://localhost:8080/"
        },
        "outputId": "cd1169fa-3ccd-481f-a53a-8b2871ec0b4a"
      },
      "execution_count": null,
      "outputs": [
        {
          "output_type": "execute_result",
          "data": {
            "text/plain": [
              "((1000, 2), (1000,))"
            ]
          },
          "metadata": {},
          "execution_count": 21
        }
      ]
    },
    {
      "cell_type": "code",
      "source": [],
      "metadata": {
        "id": "0o8JW1oRdck9"
      },
      "execution_count": null,
      "outputs": []
    }
  ]
}